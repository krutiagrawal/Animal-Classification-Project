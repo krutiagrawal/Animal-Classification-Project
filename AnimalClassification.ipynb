{
 "cells": [
  {
   "cell_type": "code",
   "id": "3ddb1626-661e-4dce-87ce-3a7820229b73",
   "metadata": {
    "ExecuteTime": {
     "end_time": "2024-10-30T14:20:06.049851Z",
     "start_time": "2024-10-30T14:20:06.035359Z"
    }
   },
   "source": "#pip install tensorflow",
   "outputs": [],
   "execution_count": 1
  },
  {
   "cell_type": "code",
   "id": "16e4f2ca-64d0-4501-b34b-62018633b4ad",
   "metadata": {
    "ExecuteTime": {
     "end_time": "2024-10-30T14:20:09.810956Z",
     "start_time": "2024-10-30T14:20:06.086861Z"
    }
   },
   "source": [
    "import tensorflow as tf\n",
    "from tensorflow import keras\n",
    "from keras.preprocessing.image import ImageDataGenerator\n",
    "import matplotlib.pyplot as plt\n",
    "import numpy as np\n",
    "import os"
   ],
   "outputs": [],
   "execution_count": 2
  },
  {
   "cell_type": "code",
   "id": "600e0451-0e82-4bb6-8eab-f8cbfa9e3c0f",
   "metadata": {
    "ExecuteTime": {
     "end_time": "2024-10-30T14:20:09.939892Z",
     "start_time": "2024-10-30T14:20:09.927164Z"
    }
   },
   "source": [
    "dataset_path = r'C:\\Users\\Kruti Agrawal\\Desktop\\Projects\\animal_classification\\Animal Classification\\dataset'\n",
    "train_dir = os.path.join(dataset_path, 'train')\n",
    "val_dir = os.path.join(dataset_path, 'val')"
   ],
   "outputs": [],
   "execution_count": 3
  },
  {
   "cell_type": "code",
   "id": "de770d43-35dc-461f-920b-ebdd15e08105",
   "metadata": {
    "ExecuteTime": {
     "end_time": "2024-10-30T14:20:10.098883Z",
     "start_time": "2024-10-30T14:20:09.955430Z"
    }
   },
   "source": [
    "try:\n",
    "    train_dir = r'C:\\Users\\Kruti Agrawal\\Desktop\\Projects\\animal_classification\\Animal Classification\\dataset'\n",
    "\n",
    "    train_datagen = ImageDataGenerator(\n",
    "        rescale=1./255,\n",
    "        rotation_range=30,\n",
    "        width_shift_range=0.2,\n",
    "        height_shift_range=0.2,\n",
    "        shear_range=0.2,\n",
    "        zoom_range=0.2,\n",
    "        horizontal_flip=True,\n",
    "        fill_mode='nearest',\n",
    "        validation_split=0.2  \n",
    "    )\n",
    "\n",
    "    # Training generator\n",
    "    train_generator = train_datagen.flow_from_directory(\n",
    "        train_dir,\n",
    "        target_size=(224, 224),\n",
    "        batch_size=32,\n",
    "        class_mode='categorical',  \n",
    "        subset='training'\n",
    "    )\n",
    "\n",
    "    # Validation generator\n",
    "    val_generator = train_datagen.flow_from_directory(\n",
    "        train_dir,\n",
    "        target_size=(224, 224),\n",
    "        batch_size=32,\n",
    "        class_mode='categorical',\n",
    "        subset='validation'\n",
    "    )\n",
    "\n",
    "except Exception as e:\n",
    "    print(f\"An error occurred: {e}\")\n"
   ],
   "outputs": [
    {
     "name": "stdout",
     "output_type": "stream",
     "text": [
      "Found 1561 images belonging to 15 classes.\n",
      "Found 383 images belonging to 15 classes.\n"
     ]
    }
   ],
   "execution_count": 4
  },
  {
   "cell_type": "code",
   "id": "4507001d-40a3-4e81-9d76-879416cbefc3",
   "metadata": {
    "ExecuteTime": {
     "end_time": "2024-10-30T14:20:11.407881Z",
     "start_time": "2024-10-30T14:20:10.120687Z"
    }
   },
   "source": [
    "base_model = tf.keras.applications.MobileNetV2(input_shape=(224, 224, 3),\n",
    "                                               include_top=False,\n",
    "                                               weights='imagenet')\n",
    "base_model.trainable = False  \n",
    "\n",
    "model = tf.keras.Sequential([\n",
    "    base_model,\n",
    "    tf.keras.layers.GlobalAveragePooling2D(),\n",
    "    tf.keras.layers.Dense(512, activation='relu'),\n",
    "    tf.keras.layers.Dropout(0.5),\n",
    "    tf.keras.layers.Dense(15, activation='softmax')\n",
    "])\n",
    "\n",
    "model.compile(optimizer='adam',\n",
    "              loss='categorical_crossentropy',\n",
    "              metrics=['accuracy'])\n"
   ],
   "outputs": [],
   "execution_count": 5
  },
  {
   "cell_type": "code",
   "id": "f63adfe6-dfb8-4bb1-b788-0b5c34d79c10",
   "metadata": {
    "ExecuteTime": {
     "end_time": "2024-10-30T14:24:31.190011Z",
     "start_time": "2024-10-30T14:20:11.423722Z"
    }
   },
   "source": [
    "history = model.fit(\n",
    "    train_generator,\n",
    "    epochs=10,\n",
    "    validation_data=val_generator\n",
    ")"
   ],
   "outputs": [
    {
     "name": "stdout",
     "output_type": "stream",
     "text": [
      "Epoch 1/10\n",
      "49/49 [==============================] - 29s 543ms/step - loss: 1.5776 - accuracy: 0.5432 - val_loss: 0.7844 - val_accuracy: 0.7467\n",
      "Epoch 2/10\n",
      "49/49 [==============================] - 26s 529ms/step - loss: 0.6910 - accuracy: 0.7867 - val_loss: 0.6340 - val_accuracy: 0.7963\n",
      "Epoch 3/10\n",
      "49/49 [==============================] - 26s 521ms/step - loss: 0.5806 - accuracy: 0.8213 - val_loss: 0.5867 - val_accuracy: 0.8303\n",
      "Epoch 4/10\n",
      "49/49 [==============================] - 25s 518ms/step - loss: 0.4753 - accuracy: 0.8539 - val_loss: 0.6775 - val_accuracy: 0.8016\n",
      "Epoch 5/10\n",
      "49/49 [==============================] - 26s 522ms/step - loss: 0.4771 - accuracy: 0.8578 - val_loss: 0.4900 - val_accuracy: 0.8642\n",
      "Epoch 6/10\n",
      "49/49 [==============================] - 25s 520ms/step - loss: 0.3960 - accuracy: 0.8783 - val_loss: 0.4892 - val_accuracy: 0.8303\n",
      "Epoch 7/10\n",
      "49/49 [==============================] - 26s 520ms/step - loss: 0.3609 - accuracy: 0.8834 - val_loss: 0.5717 - val_accuracy: 0.8225\n",
      "Epoch 8/10\n",
      "49/49 [==============================] - 25s 517ms/step - loss: 0.3685 - accuracy: 0.8815 - val_loss: 0.4844 - val_accuracy: 0.8538\n",
      "Epoch 9/10\n",
      "49/49 [==============================] - 26s 522ms/step - loss: 0.3316 - accuracy: 0.9058 - val_loss: 0.5370 - val_accuracy: 0.8381\n",
      "Epoch 10/10\n",
      "49/49 [==============================] - 26s 522ms/step - loss: 0.3473 - accuracy: 0.9026 - val_loss: 0.5048 - val_accuracy: 0.8251\n"
     ]
    }
   ],
   "execution_count": 6
  },
  {
   "cell_type": "code",
   "id": "1dfc8f3d-e9d6-4636-9060-31f74acfab76",
   "metadata": {
    "ExecuteTime": {
     "end_time": "2024-10-30T14:24:36.749223Z",
     "start_time": "2024-10-30T14:24:31.208232Z"
    }
   },
   "source": [
    "val_loss, val_accuracy = model.evaluate(val_generator)\n",
    "print(f\"Validation accuracy: {val_accuracy:.2f}\")"
   ],
   "outputs": [
    {
     "name": "stdout",
     "output_type": "stream",
     "text": [
      "12/12 [==============================] - 5s 428ms/step - loss: 0.5299 - accuracy: 0.8486\n",
      "Validation accuracy: 0.85\n"
     ]
    }
   ],
   "execution_count": 7
  },
  {
   "cell_type": "code",
   "id": "9042f92b-603b-4d8c-8a85-ae2b1c1d7c71",
   "metadata": {
    "ExecuteTime": {
     "end_time": "2024-10-30T14:24:36.958589Z",
     "start_time": "2024-10-30T14:24:36.768168Z"
    }
   },
   "source": [
    "model.save(\"animal_classifier.h5\")"
   ],
   "outputs": [
    {
     "name": "stderr",
     "output_type": "stream",
     "text": [
      "C:\\Users\\Kruti Agrawal\\anaconda3\\envs\\new_env\\lib\\site-packages\\keras\\src\\engine\\training.py:3000: UserWarning: You are saving your model as an HDF5 file via `model.save()`. This file format is considered legacy. We recommend using instead the native Keras format, e.g. `model.save('my_model.keras')`.\n",
      "  saving_api.save_model(\n"
     ]
    }
   ],
   "execution_count": 8
  },
  {
   "cell_type": "code",
   "id": "4e3237eb-c786-4e07-91ea-501ec059c98f",
   "metadata": {
    "ExecuteTime": {
     "end_time": "2024-10-30T14:24:36.990607Z",
     "start_time": "2024-10-30T14:24:36.974611Z"
    }
   },
   "source": [],
   "outputs": [],
   "execution_count": null
  }
 ],
 "metadata": {
  "kernelspec": {
   "display_name": "Python 3 (ipykernel)",
   "language": "python",
   "name": "python3"
  },
  "language_info": {
   "codemirror_mode": {
    "name": "ipython",
    "version": 3
   },
   "file_extension": ".py",
   "mimetype": "text/x-python",
   "name": "python",
   "nbconvert_exporter": "python",
   "pygments_lexer": "ipython3",
   "version": "3.12.4"
  }
 },
 "nbformat": 4,
 "nbformat_minor": 5
}
